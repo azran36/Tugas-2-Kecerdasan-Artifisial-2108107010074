{
 "cells": [
  {
   "cell_type": "code",
   "execution_count": 120,
   "id": "eedc8c28-1e0e-4e18-96d0-962c57292128",
   "metadata": {},
   "outputs": [],
   "source": [
    "import tensorflow as tf\n",
    "import pandas as pd\n",
    "from tensorflow.keras import layers, models\n",
    "from tensorflow.keras.datasets import mnist\n",
    "from tensorflow.keras.utils import to_categorical\n",
    "import matplotlib.pyplot as plt\n",
    "from tensorflow.keras.preprocessing.image import ImageDataGenerator\n",
    "from keras.callbacks import TensorBoard\n",
    "from keras.models import Sequential\n",
    "from keras.layers import Dense\n",
    "from keras.utils import to_categorical\n",
    "\n"
   ]
  },
  {
   "cell_type": "code",
   "execution_count": 121,
   "id": "9b5038a9-9e8c-4e2d-a173-d8f57325238f",
   "metadata": {},
   "outputs": [],
   "source": [
    "# Gantilah 'nama_file.csv' dengan nama file CSV yang sebenarnya\n",
    "# Membaca data dari file CSV menggunakan Pandas\n",
    "csv_file_path = 'labels_eggs-checker.csv'\n",
    "data = pd.read_csv('labels_eggs-checker.csv')\n",
    "\n",
    "\n"
   ]
  },
  {
   "cell_type": "code",
   "execution_count": 115,
   "id": "12d5b9fc-5c84-475b-8e2f-553d1ea1823f",
   "metadata": {},
   "outputs": [
    {
     "name": "stdout",
     "output_type": "stream",
     "text": [
      "(60000, 28, 28)\n",
      "(60000,)\n"
     ]
    }
   ],
   "source": [
    "print(train_images.shape)\n",
    "print(train_labels.shape)"
   ]
  },
  {
   "cell_type": "code",
   "execution_count": 116,
   "id": "c2a150ac-b466-493a-8b37-78812c3542be",
   "metadata": {},
   "outputs": [
    {
     "name": "stdout",
     "output_type": "stream",
     "text": [
      "(10000, 28, 28)\n",
      "(10000,)\n"
     ]
    }
   ],
   "source": [
    "print(test_images.shape)\n",
    "print(test_labels.shape)"
   ]
  },
  {
   "cell_type": "code",
   "execution_count": 117,
   "metadata": {},
   "outputs": [
    {
     "name": "stdout",
     "output_type": "stream",
     "text": [
      "   ClassB-HLC  20  154  554  692  \\\n",
      "0  ClassB-HLC  79  176  473  590   \n",
      "1  ClassB-HLC  45  271  441  547   \n",
      "2  ClassB-HLC  41  357  498  559   \n",
      "3  ClassB-HLC  38  237  488  579   \n",
      "4  ClassB-HLC  32  192  479  608   \n",
      "\n",
      "       WhatsApp Image 2021-11-18 at 11.19.00 PM.jpeg  588  1280  \n",
      "0      WhatsApp Image 2021-11-18 at 11.19.02 PM.jpeg  588  1280  \n",
      "1      WhatsApp Image 2021-11-18 at 11.19.03 PM.jpeg  588  1280  \n",
      "2  WhatsApp Image 2021-11-18 at 11.19.04 PM (1).jpeg  588  1280  \n",
      "3      WhatsApp Image 2021-11-18 at 11.19.04 PM.jpeg  588  1280  \n",
      "4      WhatsApp Image 2021-11-18 at 11.19.05 PM.jpeg  588  1280  \n",
      "Index(['ClassB-HLC', '20', '154', '554', '692',\n",
      "       'WhatsApp Image 2021-11-18 at 11.19.00 PM.jpeg', '588', '1280'],\n",
      "      dtype='object')\n"
     ]
    }
   ],
   "source": [
    "print(df.head())\n",
    "print(df.columns)\n"
   ]
  },
  {
   "cell_type": "code",
   "execution_count": 118,
   "id": "2bcdeff1-0610-4360-8ce6-8145d29151a8",
   "metadata": {},
   "outputs": [],
   "source": [
    "#memproses data\n",
    "train_images = train_images.reshape((60000, 28, 28, 1)).astype('float32') / 255\n",
    "test_images = test_images.reshape((10000, 28, 28, 1)).astype('float32') / 255\n",
    "\n",
    "train_labels = to_categorical(train_labels)\n",
    "test_labels = to_categorical(test_labels)"
   ]
  },
  {
   "cell_type": "code",
   "execution_count": 119,
   "id": "06b3e947-1d9f-4936-b5aa-7bcb4f1bc4d4",
   "metadata": {},
   "outputs": [],
   "source": [
    "# Build model\n",
    "model = models.Sequential()\n",
    "model.add(layers.Conv2D(32, (3, 3), activation='relu', input_shape=(28, 28, 1)))\n",
    "model.add(layers.MaxPooling2D((2, 2)))\n",
    "model.add(layers.Conv2D(64, (3, 3), activation='relu'))\n",
    "model.add(layers.MaxPooling2D((2, 2)))\n",
    "model.add(layers.Conv2D(64, (3, 3), activation='relu'))\n",
    "model.add(layers.Flatten())\n",
    "model.add(layers.Dense(64, activation='relu'))\n",
    "model.add(layers.Dense(10, activation='softmax'))"
   ]
  },
  {
   "cell_type": "code",
   "execution_count": 94,
   "id": "7cc6ec51-e711-429e-8b92-e31ef89d9926",
   "metadata": {},
   "outputs": [
    {
     "name": "stdout",
     "output_type": "stream",
     "text": [
      "Epoch 1/5\n",
      "938/938 [==============================] - 76s 75ms/step - loss: 0.1815 - accuracy: 0.9451 - val_loss: 0.0512 - val_accuracy: 0.9850\n",
      "Epoch 2/5\n",
      "938/938 [==============================] - 78s 83ms/step - loss: 0.0525 - accuracy: 0.9840 - val_loss: 0.0414 - val_accuracy: 0.9865\n",
      "Epoch 3/5\n",
      "938/938 [==============================] - 87s 93ms/step - loss: 0.0369 - accuracy: 0.9882 - val_loss: 0.0385 - val_accuracy: 0.9872\n",
      "Epoch 4/5\n",
      "938/938 [==============================] - 80s 86ms/step - loss: 0.0281 - accuracy: 0.9912 - val_loss: 0.0301 - val_accuracy: 0.9899\n",
      "Epoch 5/5\n",
      "938/938 [==============================] - 64s 68ms/step - loss: 0.0229 - accuracy: 0.9927 - val_loss: 0.0251 - val_accuracy: 0.9923\n",
      "313/313 [==============================] - 4s 14ms/step - loss: 0.0251 - accuracy: 0.9923\n",
      "Test accuracy: 0.9922999739646912\n"
     ]
    }
   ],
   "source": [
    "#compile model\n",
    "model.compile(optimizer='adam',\n",
    "              loss='categorical_crossentropy',\n",
    "              metrics=['accuracy'])\n",
    "\n",
    "# latih model dan evaluasi model\n",
    "history = model.fit(train_images, train_labels, epochs=5, batch_size=64, validation_data=(test_images, test_labels))\n",
    "test_loss, test_acc = model.evaluate(test_images, test_labels)\n",
    "print(f'Test accuracy: {test_acc}')\n",
    "\n"
   ]
  },
  {
   "cell_type": "code",
   "execution_count": 95,
   "metadata": {},
   "outputs": [
    {
     "name": "stdout",
     "output_type": "stream",
     "text": [
      "Epoch 1/5\n",
      "937/937 [==============================] - 75s 75ms/step - loss: 1.4395 - accuracy: 0.5029 - val_loss: 0.4420 - val_accuracy: 0.8614\n",
      "Epoch 2/5\n",
      "937/937 [==============================] - 78s 83ms/step - loss: 0.3263 - accuracy: 0.8979 - val_loss: 0.2104 - val_accuracy: 0.9359\n",
      "Epoch 3/5\n",
      "937/937 [==============================] - 64s 68ms/step - loss: 0.1959 - accuracy: 0.9391 - val_loss: 0.1619 - val_accuracy: 0.9507\n",
      "Epoch 4/5\n",
      "937/937 [==============================] - 60s 64ms/step - loss: 0.1362 - accuracy: 0.9584 - val_loss: 0.1152 - val_accuracy: 0.9614\n",
      "Epoch 5/5\n",
      "937/937 [==============================] - 77s 82ms/step - loss: 0.0976 - accuracy: 0.9699 - val_loss: 0.0703 - val_accuracy: 0.9763\n"
     ]
    }
   ],
   "source": [
    "# Membuat objek ImageDataGenerator\n",
    "# Melatih model menggunakan generator\n",
    "# Membuat generator untuk data pelatihan\n",
    "# Membuat generator untuk data validasi\n",
    "datagen = ImageDataGenerator(rescale=1./255)\n",
    "train_generator = datagen.flow(train_images, train_labels, batch_size=64)\n",
    "validation_generator = datagen.flow(test_images, test_labels, batch_size=64)\n",
    "history = model.fit(train_generator, epochs=5, steps_per_epoch=len(train_images)//64, \n",
    "validation_data=validation_generator, validation_steps=len(test_images)//64)"
   ]
  },
  {
   "cell_type": "code",
   "execution_count": 96,
   "id": "9df8a6b8-bea3-4415-ac1f-dadcc46c9d54",
   "metadata": {},
   "outputs": [
    {
     "name": "stdout",
     "output_type": "stream",
     "text": [
      "Epoch 1/5\n",
      "938/938 [==============================] - 105s 112ms/step - loss: 0.9584 - accuracy: 0.9684 - val_loss: 0.1469 - val_accuracy: 0.9693\n",
      "Epoch 2/5\n",
      "938/938 [==============================] - 61s 64ms/step - loss: 0.0989 - accuracy: 0.9794 - val_loss: 0.0961 - val_accuracy: 0.9814\n",
      "Epoch 3/5\n",
      "938/938 [==============================] - 70s 75ms/step - loss: 0.0622 - accuracy: 0.9857 - val_loss: 0.0876 - val_accuracy: 0.9807\n",
      "Epoch 4/5\n",
      "938/938 [==============================] - 67s 71ms/step - loss: 0.0439 - accuracy: 0.9887 - val_loss: 0.0848 - val_accuracy: 0.9846\n",
      "Epoch 5/5\n",
      "938/938 [==============================] - 91s 97ms/step - loss: 0.0348 - accuracy: 0.9903 - val_loss: 0.0711 - val_accuracy: 0.9870\n"
     ]
    }
   ],
   "source": [
    "# TensorBoard callback\n",
    "tensorboard_callback = tf.keras.callbacks.TensorBoard(log_dir=\"./logs\", histogram_freq=1)\n",
    "\n",
    "# Train the model with TensorBoard callback\n",
    "history = model.fit(train_images, train_labels, epochs=5, batch_size=64, \n",
    "validation_data=(test_images, test_labels), callbacks=[tensorboard_callback])\n",
    "# Model Information\n",
    "num_layers = len(model.layers)\n",
    "total_hidden_nodes = sum(layer.output_shape[1] for layer in model.layers if len(layer.output_shape) > 1)\n",
    "total_weights = sum(layer.count_params() for layer in model.layers)\n"
   ]
  },
  {
   "cell_type": "code",
   "execution_count": 97,
   "id": "518b02e8-3cf5-4144-8f4a-f20e171a204d",
   "metadata": {},
   "outputs": [
    {
     "name": "stdout",
     "output_type": "stream",
     "text": [
      "Number of Hidden Layers: 8\n",
      "Total Hidden Nodes: 708\n",
      "Total Weights (Parameters): 93322\n"
     ]
    }
   ],
   "source": [
    "# Print the information\n",
    "print(f'Number of Hidden Layers: {num_layers}')\n",
    "print(f'Total Hidden Nodes: {total_hidden_nodes}')\n",
    "print(f'Total Weights (Parameters): {total_weights}')"
   ]
  },
  {
   "cell_type": "code",
   "execution_count": 98,
   "id": "4bc67103-71f7-4f68-a386-22ae43340d3a",
   "metadata": {},
   "outputs": [
    {
     "data": {
      "image/png": "[encoded data removed]",
      "text/plain": [
       "<Figure size 432x432 with 1 Axes>"
      ]
     },
     "metadata": {
      "needs_background": "light"
     },
     "output_type": "display_data"
    },
    {
     "data": {
      "image/png": "[encoded data removed]",
      "text/plain": [
       "<Figure size 432x432 with 1 Axes>"
      ]
     },
     "metadata": {
      "needs_background": "light"
     },
     "output_type": "display_data"
    },
    {
     "data": {
      "image/png": "[encoded data removed]",
      "text/plain": [
       "<Figure size 432x432 with 1 Axes>"
      ]
     },
     "metadata": {
      "needs_background": "light"
     },
     "output_type": "display_data"
    },
    {
     "data": {
      "image/png": "[encoded data removed]",
      "text/plain": [
       "<Figure size 432x432 with 1 Axes>"
      ]
     },
     "metadata": {
      "needs_background": "light"
     },
     "output_type": "display_data"
    },
    {
     "name": "stderr",
     "output_type": "stream",
     "text": [
      "c:\\Users\\USER\\AppData\\Local\\Programs\\Python\\Python310\\lib\\site-packages\\keras\\src\\engine\\training.py:3103: UserWarning: You are saving your model as an HDF5 file via `model.save()`. This file format is considered legacy. We recommend using instead the native Keras format, e.g. `model.save('my_model.keras')`.\n",
      "  saving_api.save_model(\n"
     ]
    }
   ],
   "source": [
    "# Retrieve training history from the history object\n",
    "acc = history.history['accuracy']\n",
    "val_acc = history.history['val_accuracy']\n",
    "loss = history.history['loss']\n",
    "val_loss = history.history['val_loss']\n",
    "epochs = range(1, len(acc) + 1)\n",
    "\n",
    "# Plot training accuracy\n",
    "plt.figure(figsize=(6, 6))\n",
    "plt.plot(epochs, acc, 'bo-', label='Training accuracy')\n",
    "plt.title('Training accuracy')\n",
    "plt.xlabel('Epochs')\n",
    "plt.ylabel('Accuracy')\n",
    "plt.legend()\n",
    "plt.show()\n",
    "\n",
    "# Plot validation accuracy\n",
    "plt.figure(figsize=(6, 6))\n",
    "plt.plot(epochs, val_acc, 'bo-', label='Validation accuracy')\n",
    "plt.title('Validation accuracy')\n",
    "plt.xlabel('Epochs')\n",
    "plt.ylabel('Accuracy')\n",
    "plt.legend()\n",
    "plt.show()\n",
    "\n",
    "# Plot training loss\n",
    "plt.figure(figsize=(6, 6))\n",
    "plt.plot(epochs, loss, 'bo-', label='Training loss')\n",
    "plt.title('Training loss')\n",
    "plt.xlabel('Epochs')\n",
    "plt.ylabel('Loss')\n",
    "plt.legend()\n",
    "plt.show()\n",
    "\n",
    "# Plot validation loss\n",
    "plt.figure(figsize=(6, 6))\n",
    "plt.plot(epochs, val_loss, 'bo-', label='Validation loss')\n",
    "plt.title('Validation loss')\n",
    "plt.xlabel('Epochs')\n",
    "plt.ylabel('Loss')\n",
    "plt.legend()\n",
    "plt.show()\n",
    "\n",
    "# Save model\n",
    "model.save('mnist_model.h5')\n"
   ]
  },
  {
   "cell_type": "code",
   "execution_count": 14,
   "id": "27d440bd-7b2c-4cb1-aa6d-2d57f1e7f94d",
   "metadata": {},
   "outputs": [
    {
     "name": "stdout",
     "output_type": "stream",
     "text": [
      "Epoch 1/5\n",
      "1875/1875 [==============================] - 92s 47ms/step - loss: 0.0547 - accuracy: 0.9846 - val_loss: 0.0583 - val_accuracy: 0.9849\n",
      "Epoch 2/5\n",
      "1875/1875 [==============================] - 71s 38ms/step - loss: 0.0374 - accuracy: 0.9888 - val_loss: 0.0565 - val_accuracy: 0.9872\n",
      "Epoch 3/5\n",
      "1875/1875 [==============================] - 138s 74ms/step - loss: 0.0294 - accuracy: 0.9909 - val_loss: 0.0560 - val_accuracy: 0.9876\n",
      "Epoch 4/5\n",
      "1875/1875 [==============================] - 135s 72ms/step - loss: 0.0281 - accuracy: 0.9919 - val_loss: 0.0520 - val_accuracy: 0.9852\n",
      "Epoch 5/5\n",
      "1875/1875 [==============================] - 96s 51ms/step - loss: 0.0195 - accuracy: 0.9937 - val_loss: 0.0538 - val_accuracy: 0.9863\n"
     ]
    }
   ],
   "source": [
    "import datetime\n",
    "log_dir = \"logs/fit/\" + datetime.datetime.now().strftime(\"%Y%m%d-%H%M%S\")\n",
    "tensorboard_callback = TensorBoard(log_dir=log_dir, histogram_freq=1)\n",
    "history = model.fit(train_images, train_labels, epochs=5, validation_data=(test_images, test_labels), callbacks=[tensorboard_callback])\n"
   ]
  },
  {
   "cell_type": "markdown",
   "metadata": {},
   "source": []
  },
  {
   "cell_type": "code",
   "execution_count": null,
   "metadata": {},
   "outputs": [],
   "source": []
  }
 ],
 "metadata": {
  "kernelspec": {
   "display_name": "Python 3 (ipykernel)",
   "language": "python",
   "name": "python3"
  },
  "language_info": {
   "codemirror_mode": {
    "name": "ipython",
    "version": 3
   },
   "file_extension": ".py",
   "mimetype": "text/x-python",
   "name": "python",
   "nbconvert_exporter": "python",
   "pygments_lexer": "ipython3",
   "version": "3.10.4"
  }
 },
 "nbformat": 4,
 "nbformat_minor": 5
}
